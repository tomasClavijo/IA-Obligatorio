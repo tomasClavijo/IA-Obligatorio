{
 "cells": [
  {
   "cell_type": "code",
   "execution_count": 2,
   "metadata": {},
   "outputs": [],
   "source": [
    "import numpy as np\n",
    "from MountainCarEnv import MountainCarEnv\n",
    "import matplotlib.pyplot as plt"
   ]
  },
  {
   "cell_type": "code",
   "execution_count": 3,
   "metadata": {},
   "outputs": [],
   "source": [
    "env = MountainCarEnv(render_mode=\"human\")"
   ]
  },
  {
   "cell_type": "code",
   "execution_count": 4,
   "metadata": {},
   "outputs": [],
   "source": [
    "# Función de ejemplo, no la utilizamos explícitamente en el Q - Learning; aunque se aplica su idea.\n",
    "\n",
    "def epsilon_greedy_policy(state, Q, epsilon=0.1):\n",
    "    explore = np.random.binomial(1, epsilon)\n",
    "    if explore:\n",
    "        action = env.action_space.sample()\n",
    "        print('explore')\n",
    "    # exploit\n",
    "    else:\n",
    "        action = np.argmax(Q[state])\n",
    "        print('exploit')\n",
    "    return action"
   ]
  },
  {
   "cell_type": "code",
   "execution_count": 5,
   "metadata": {},
   "outputs": [],
   "source": [
    "def optimal_policy(state, Q):\n",
    "    action = np.argmax(Q[state])\n",
    "    return action"
   ]
  },
  {
   "cell_type": "code",
   "execution_count": 6,
   "metadata": {},
   "outputs": [],
   "source": [
    "pos_space = np.linspace(-1.2, 0.6, 12)\n",
    "vel_space = np.linspace(-0.07, 0.07, 20)\n",
    "#pos_space"
   ]
  },
  {
   "cell_type": "code",
   "execution_count": 7,
   "metadata": {},
   "outputs": [],
   "source": [
    "def get_state(observation):\n",
    "    pos, vel =  observation\n",
    "    pos_bin = int(np.digitize(pos, pos_space))\n",
    "    vel_bin = int(np.digitize(vel, vel_space))\n",
    "\n",
    "    return (pos_bin, vel_bin)"
   ]
  },
  {
   "cell_type": "code",
   "execution_count": null,
   "metadata": {},
   "outputs": [],
   "source": [
    "state = get_state(np.array([-0.4, 0.2]))\n",
    "state"
   ]
  },
  {
   "cell_type": "code",
   "execution_count": null,
   "metadata": {},
   "outputs": [],
   "source": [
    "actions = list(range(env.action_space.n))\n",
    "actions"
   ]
  },
  {
   "cell_type": "code",
   "execution_count": 8,
   "metadata": {},
   "outputs": [
    {
     "data": {
      "text/plain": [
       "array([[[0., 0., 0.],\n",
       "        [0., 0., 0.],\n",
       "        [0., 0., 0.]],\n",
       "\n",
       "       [[0., 0., 0.],\n",
       "        [0., 0., 0.],\n",
       "        [0., 0., 0.]],\n",
       "\n",
       "       [[0., 0., 0.],\n",
       "        [0., 0., 0.],\n",
       "        [0., 0., 0.]],\n",
       "\n",
       "       [[0., 0., 0.],\n",
       "        [0., 0., 0.],\n",
       "        [0., 0., 0.]],\n",
       "\n",
       "       [[0., 0., 0.],\n",
       "        [0., 0., 0.],\n",
       "        [0., 0., 0.]],\n",
       "\n",
       "       [[0., 0., 0.],\n",
       "        [0., 0., 0.],\n",
       "        [0., 0., 0.]],\n",
       "\n",
       "       [[0., 0., 0.],\n",
       "        [0., 0., 0.],\n",
       "        [0., 0., 0.]],\n",
       "\n",
       "       [[0., 0., 0.],\n",
       "        [0., 0., 0.],\n",
       "        [0., 0., 0.]],\n",
       "\n",
       "       [[0., 0., 0.],\n",
       "        [0., 0., 0.],\n",
       "        [0., 0., 0.]],\n",
       "\n",
       "       [[0., 0., 0.],\n",
       "        [0., 0., 0.],\n",
       "        [0., 0., 0.]],\n",
       "\n",
       "       [[0., 0., 0.],\n",
       "        [0., 0., 0.],\n",
       "        [0., 0., 0.]]])"
      ]
     },
     "execution_count": 8,
     "metadata": {},
     "output_type": "execute_result"
    }
   ],
   "source": [
    "Q = np.zeros((11,3,3))\n",
    "Q"
   ]
  },
  {
   "cell_type": "code",
   "execution_count": null,
   "metadata": {},
   "outputs": [],
   "source": [
    "# Q-Learning incompleto dado por letra\n",
    "\n",
    "obs = env.reset()\n",
    "print(obs)\n",
    "done = False\n",
    "while not done:\n",
    "    state = get_state(obs)\n",
    "    action = epsilon_greedy_policy(state, Q, 0.5)\n",
    "    obs, reward, done, _ = env.step(action)\n",
    "    print('->', state, action, reward, obs, done)"
   ]
  },
  {
   "cell_type": "code",
   "execution_count": 9,
   "metadata": {},
   "outputs": [],
   "source": [
    "def max_action(Q, state, actions=[0, 1, 2]):\n",
    "    values = np.array([Q[state,a] for a in actions])\n",
    "    action = np.argmax(values)\n",
    "\n",
    "    return action"
   ]
  },
  {
   "cell_type": "code",
   "execution_count": 10,
   "metadata": {},
   "outputs": [
    {
     "name": "stdout",
     "output_type": "stream",
     "text": [
      "episode 1000 score -217.0 epsilon %.3f 0.01\n",
      "episode 2000 score -160.0 epsilon %.3f 0.01\n",
      "episode 3000 score -154.0 epsilon %.3f 0.01\n",
      "episode 4000 score -194.0 epsilon %.3f 0.01\n",
      "episode 5000 score -184.0 epsilon %.3f 0.01\n",
      "episode 6000 score -121.0 epsilon %.3f 0.01\n",
      "episode 7000 score -157.0 epsilon %.3f 0.01\n",
      "episode 8000 score -152.0 epsilon %.3f 0.01\n",
      "episode 9000 score -212.0 epsilon %.3f 0.01\n"
     ]
    },
    {
     "data": {
      "image/png": "[encoded data removed]",
      "text/plain": [
       "<Figure size 640x480 with 1 Axes>"
      ]
     },
     "metadata": {},
     "output_type": "display_data"
    }
   ],
   "source": [
    "if __name__ == '__main__':\n",
    "    n_games = 10000\n",
    "    alpha = 0.1\n",
    "    gamma = 0.99\n",
    "    eps = 1.0\n",
    "\n",
    "    states = []\n",
    "    for pos in range(21):\n",
    "        for vel in range(21):\n",
    "            states.append((pos, vel))\n",
    "\n",
    "    Q = {}\n",
    "    for state in states: \n",
    "        for action in [0,1,2]:\n",
    "            Q[state, action] = 0\n",
    "\n",
    "    score = 0\n",
    "    total_rewards = np.zeros(n_games)\n",
    "    for i in range(n_games):\n",
    "        done = False\n",
    "        obs = env.reset()\n",
    "        state = get_state(obs)\n",
    "        if i % 1000 == 0 and i > 0:\n",
    "            print ('episode',i,'score',score,'epsilon %.3f', eps)\n",
    "        score =0\n",
    "        while not done: \n",
    "            action = np.random.choice([0,1,2]) if np.random.random() < eps \\\n",
    "                else max_action(Q, state)\n",
    "            obs_, reward, done, info = env.step(action)\n",
    "            state_ = get_state(obs_)\n",
    "            score += reward\n",
    "            action_ = max_action(Q, state_)\n",
    "            Q[state, action] = Q[state, action] + alpha*(reward + gamma*Q[state_, action_] - Q[state, action])\n",
    "            state = state_\n",
    "            total_rewards[i] = score\n",
    "            eps = eps - 2/n_games if eps > 0.01 else 0.01\n",
    "    mean_rewards = np.zeros(n_games)\n",
    "    for r in range (n_games):\n",
    "        mean_rewards[r] = np.mean(total_rewards[max(0, r-50):(r+1)])\n",
    "    plt.plot(mean_rewards)\n",
    "    plt.savefig('mountaincar.png')\n"
   ]
  }
 ],
 "metadata": {
  "kernelspec": {
   "display_name": "Python 3.11.4 64-bit",
   "language": "python",
   "name": "python3"
  },
  "language_info": {
   "codemirror_mode": {
    "name": "ipython",
    "version": 3
   },
   "file_extension": ".py",
   "mimetype": "text/x-python",
   "name": "python",
   "nbconvert_exporter": "python",
   "pygments_lexer": "ipython3",
   "version": "3.11.4"
  },
  "orig_nbformat": 4,
  "vscode": {
   "interpreter": {
    "hash": "c904bd87413170da76a9f53115cf6340fbe80dab715b9d9be2cd45de1b24f56d"
   }
  }
 },
 "nbformat": 4,
 "nbformat_minor": 2
}
